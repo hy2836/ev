{
 "cells": [
  {
   "cell_type": "markdown",
   "id": "af5c7405-dd0d-4e61-8f57-5e282b284ee3",
   "metadata": {},
   "source": [
    "\n",
    "\\ev charging"
   ]
  },
  {
   "cell_type": "code",
   "execution_count": 1,
   "id": "22599d56-dbe0-4895-8680-52b190abbc64",
   "metadata": {},
   "outputs": [],
   "source": [
    "#Packages\n",
    "from gurobipy import Model, GRB, quicksum\n",
    "import pandas as pd\n",
    "import numpy as np\n",
    "#import folium\n",
    "import math\n",
    "import random\n",
    "from folium.plugins import HeatMap"
   ]
  },
  {
   "cell_type": "code",
   "execution_count": 2,
   "id": "2a042c5d-f8e4-42a4-a10d-e6707c64eb98",
   "metadata": {},
   "outputs": [],
   "source": [
    "#Load datasets\n",
    "dfp = pd.read_csv('Electric_Vehicle_Population_Data.csv') #dataframe for ev population\n",
    "dfcs = pd.read_csv('Public_EV_Charging_Stations.csv') #dataframe for charging stations\n",
    "dfa = pd.read_csv('wa.csv', low_memory = False, index_col = 'HASH') #dataframe for addresses"
   ]
  },
  {
   "cell_type": "markdown",
   "id": "bb565a4c-5340-4f13-a254-e6e470f55082",
   "metadata": {},
   "source": [
    "#### Visualizations"
   ]
  },
  {
   "cell_type": "code",
   "execution_count": null,
   "id": "8a45ce9b-462c-4124-aac5-77f47058ae3f",
   "metadata": {},
   "outputs": [],
   "source": [
    "map_object = folium.Map(location = [47.608013, -122.335167], zoom_start = 11 )\n",
    "lat1 = [47.6018, 47.57981, 47.581975]\n",
    "lon1 = [-122.329075, -122.329815, -122.30823]\n",
    "lat_lon = list(zip(lat1, lon1))\n",
    "HeatMap(lat_lon).add_to(map_object)\n",
    "map_object"
   ]
  },
  {
   "cell_type": "markdown",
   "id": "d51d8165-d7e8-4468-9bea-c697da1bce48",
   "metadata": {},
   "source": [
    "#### Data Cleaning"
   ]
  },
  {
   "cell_type": "code",
   "execution_count": 3,
   "id": "5cb98de6-9ddd-4ade-9f37-41eb38b6b789",
   "metadata": {},
   "outputs": [],
   "source": [
    "#Parameters\n",
    "postal_codes = ['98104', '98134', '98144']\n",
    "city = 'Seattle'"
   ]
  },
  {
   "cell_type": "code",
   "execution_count": null,
   "id": "a111aa09-2eaa-483f-bad4-2fb59691cd54",
   "metadata": {},
   "outputs": [],
   "source": [
    "#Ratio\n",
    "def ratio():\n",
    "dfcs['Plugs'] = dfcs['EV_Level1_EVSE_Ports'] + dfcs['EV_Level2_EVSE_Ports'] + dfcs['EV_DC_Fast_Ports']\n",
    "dfcs = dfcs.loc[dfcs['Zipcode'] == '98039']\n",
    "print(np.sum(dfcs['Plugs']))\n",
    "\n",
    "dfp.loc[dfp['Postal Code'] == 98039.0].shape[0]\n",
    "\n",
    "ratio_98104 = 743/124\n",
    "ratio_98134 = 451/38\n",
    "ratio_98144 = 1144/28\n",
    "print(ratio_98104, ratio_98134, ratio_98144)"
   ]
  },
  {
   "cell_type": "code",
   "execution_count": 4,
   "id": "b0984c73-32b5-42fd-a355-2eaaa2d46d48",
   "metadata": {},
   "outputs": [],
   "source": [
    "#dfcs cleaning\n",
    "dfcs = dfcs.loc[dfcs['Zipcode'].isin(postal_codes)]\n",
    "\n",
    "dfcs = dfcs.loc[dfcs['Access_Hours'] == '24 hours daily']\n",
    "dfcs = dfcs.drop(dfcs[dfcs.Restricted_Access == True].index)\n",
    "dfcs['Plugs'] = dfcs['EV_Level1_EVSE_Ports'] + dfcs['EV_Level2_EVSE_Ports'] + dfcs['EV_DC_Fast_Ports']"
   ]
  },
  {
   "cell_type": "code",
   "execution_count": 7,
   "id": "2b633dc0-76c7-413f-8116-0260a4819122",
   "metadata": {},
   "outputs": [],
   "source": [
    "dfp = dfp.loc[dfp['City'] == city]\n",
    "def ev_count(pc):\n",
    "    n = {}\n",
    "    for i in pc:\n",
    "        n[i] = dfp.loc[dfp['Postal Code'] == float(i)].shape[0]\n",
    "    return n"
   ]
  },
  {
   "cell_type": "code",
   "execution_count": 8,
   "id": "3a0047e1-a058-4967-bd1e-ea8ff9d5a461",
   "metadata": {},
   "outputs": [
    {
     "data": {
      "text/plain": [
       "{'98104': 743, '98134': 451, '98144': 1144}"
      ]
     },
     "execution_count": 8,
     "metadata": {},
     "output_type": "execute_result"
    }
   ],
   "source": [
    "ev_count(postal_codes)"
   ]
  },
  {
   "cell_type": "code",
   "execution_count": 9,
   "id": "544e57e5-0a43-46b3-8fe5-9303b796e270",
   "metadata": {},
   "outputs": [],
   "source": [
    "#Random generating addresses\n",
    "dfa = dfa.loc[dfa['POSTCODE'].isin(postal_codes)]\n",
    "dfa = dfa.dropna(subset=['CITY'])\n",
    "def generate_address(n):\n",
    "    dfa_inde = list(dfa.index)\n",
    "    cars_addresses = {f\"Car {i}\": random.choice(dfa_inde) for i in range(1, n+1)}\n",
    "    address1 = []\n",
    "    for car, address in list(cars_addresses.items()):\n",
    "        address1.append(address)\n",
    "    return dfa.loc[address1]"
   ]
  },
  {
   "cell_type": "code",
   "execution_count": 10,
   "id": "a3b27152-d4d2-4570-95b8-d12fad0e6cd4",
   "metadata": {},
   "outputs": [],
   "source": [
    "cars = generate_address(70)\n",
    "lat1 = cars['LAT'].tolist()\n",
    "lon1 = cars['LON'].tolist()\n",
    "lat2 = dfcs['Latitude'].tolist()\n",
    "lon2 = dfcs['Longitude'].tolist()"
   ]
  },
  {
   "cell_type": "code",
   "execution_count": 11,
   "id": "58bbc082-9f2e-4c96-871a-979f0bc328fc",
   "metadata": {},
   "outputs": [],
   "source": [
    "def haversine(lat1, lon1, lat2, lon2):\n",
    "    R = 3958.8 #Radius of the Earth in miles\n",
    "    lat1_rad = math.radians(lat1)\n",
    "    lon1_rad = math.radians(lon1)\n",
    "    lat2_rad = math.radians(lat2)\n",
    "    lon2_rad = math.radians(lon2)\n",
    "    dlat = lat2_rad - lat1_rad\n",
    "    dlon = lon2_rad - lon1_rad\n",
    "    a = math.sin(dlat / 2)**2 + math.cos(lat1_rad) * math.cos(lat2_rad) * math.sin(dlon / 2)**2\n",
    "    c = 2 * math.atan2(math.sqrt(a), math.sqrt(1 - a))\n",
    "    distance = R * c\n",
    "    return distance"
   ]
  },
  {
   "cell_type": "code",
   "execution_count": 12,
   "id": "2c2ba319-2730-4adf-a040-0649cf72f217",
   "metadata": {},
   "outputs": [],
   "source": [
    "def distance_matrix(lat1, lon1, lat2, lon2):\n",
    "    distance = np.zeros((len(lat1), len(lat2)))\n",
    "    for i in range(len(lat1)):\n",
    "        for j in range(len(lat2)):\n",
    "            distance[i, j] = haversine(lon1[i], lat1[i], lon2[j], lat2[j])\n",
    "    return distance"
   ]
  },
  {
   "cell_type": "markdown",
   "id": "78611622-0792-4678-919c-c083a98535b6",
   "metadata": {},
   "source": [
    "#### Optimization Model"
   ]
  },
  {
   "cell_type": "code",
   "execution_count": 13,
   "id": "06b016ba-4704-4ea5-b41f-0e846a2be7f7",
   "metadata": {},
   "outputs": [
    {
     "name": "stdout",
     "output_type": "stream",
     "text": [
      "Set parameter Username\n",
      "Academic license - for non-commercial use only - expires 2024-09-17\n",
      "Gurobi Optimizer version 10.0.3 build v10.0.3rc0 (mac64[arm])\n",
      "\n",
      "CPU model: Apple M2\n",
      "Thread count: 8 physical cores, 8 logical processors, using up to 8 threads\n",
      "\n",
      "Optimize a model with 114 rows, 3080 columns and 6160 nonzeros\n",
      "Model fingerprint: 0xdc42cc17\n",
      "Variable types: 0 continuous, 3080 integer (3080 binary)\n",
      "Coefficient statistics:\n",
      "  Matrix range     [1e+00, 1e+00]\n",
      "  Objective range  [3e-02, 4e+00]\n",
      "  Bounds range     [1e+00, 1e+00]\n",
      "  RHS range        [1e+00, 6e+00]\n",
      "Found heuristic solution: objective 115.5620608\n",
      "Presolve time: 0.01s\n",
      "Presolved: 114 rows, 3080 columns, 6160 nonzeros\n",
      "Variable types: 0 continuous, 3080 integer (3080 binary)\n",
      "Found heuristic solution: objective 108.9064906\n",
      "\n",
      "Root relaxation: objective 9.963536e+01, 788 iterations, 0.01 seconds (0.01 work units)\n",
      "\n",
      "    Nodes    |    Current Node    |     Objective Bounds      |     Work\n",
      " Expl Unexpl |  Obj  Depth IntInf | Incumbent    BestBd   Gap | It/Node Time\n",
      "\n",
      "*    0     0               0      99.6353616   99.63536  0.00%     -    0s\n",
      "\n",
      "Explored 1 nodes (788 simplex iterations) in 0.04 seconds (0.02 work units)\n",
      "Thread count was 8 (of 8 available processors)\n",
      "\n",
      "Solution count 3: 99.6354 108.906 115.562 \n",
      "\n",
      "Optimal solution found (tolerance 1.00e-04)\n",
      "Best objective 9.963536157813e+01, best bound 9.963536157813e+01, gap 0.0000%\n"
     ]
    }
   ],
   "source": [
    "m = Model(\"ev_charging\")\n",
    "\n",
    "d = distance_matrix(lat1, lon1, lat2, lon2)\n",
    "I = range(len(lat1))  # Postal codes\n",
    "J = range(len(lat2))  # Charging stations\n",
    "Capacity = dfcs['Plugs'].tolist()\n",
    "\n",
    "x = {}\n",
    "for i in I:\n",
    "    for j in J:\n",
    "        x[i,j] = m.addVar(vtype=GRB.BINARY, name = f\"x_{i}{j}\", lb=0)\n",
    "\n",
    "m.setObjective(quicksum(d[i,j] * x[i, j] for i in I for j in J), GRB.MINIMIZE)\n",
    "\n",
    "for j in J:\n",
    "    m.addConstr(quicksum(x[i,j] for i in I) <= Capacity[j])\n",
    "\n",
    "for i in I:\n",
    "    m.addConstr(quicksum(x[i,j] for j in J) == 1, f\"EV_Assignment_{i}\")\n",
    "\n",
    "m.optimize()"
   ]
  },
  {
   "cell_type": "markdown",
   "id": "0bdf3ba4-e539-4d6b-8761-a2d281e00a11",
   "metadata": {},
   "source": [
    "#### Solution"
   ]
  },
  {
   "cell_type": "code",
   "execution_count": 14,
   "id": "a1c5808e-8a21-41d9-b61c-23c537c105a1",
   "metadata": {},
   "outputs": [
    {
     "name": "stdout",
     "output_type": "stream",
     "text": [
      "Car 0 from postal code 98144 traveled 2.593858842040386 miles to charging station at 583 Battery St\n",
      "Car 1 from postal code 98144 traveled 1.03708827942188 miles to charging station at 338 Weller St Bridge\n",
      "Car 2 from postal code 98144 traveled 1.7725099311279395 miles to charging station at 1531 Utah Avenue South\n",
      "Car 3 from postal code 98144 traveled 2.2940707851713023 miles to charging station at 583 Battery St\n",
      "Car 4 from postal code 98144 traveled 3.0845475765495736 miles to charging station at 201 S Jackson St\n",
      "Car 5 from postal code 98134 traveled 0.1525816780362568 miles to charging station at 1st Ave S & S Stacy St\n",
      "Car 6 from postal code 98104 traveled 0.185466483542743 miles to charging station at 1000 2nd Ave\n",
      "Car 7 from postal code 98144 traveled 1.506618737499007 miles to charging station at 201 S Jackson St\n",
      "Car 8 from postal code 98144 traveled 3.2299816873509335 miles to charging station at 201 S Jackson St\n",
      "Car 9 from postal code 98144 traveled 1.4307056740754667 miles to charging station at 2535 16th Ave S\n",
      "Car 10 from postal code 98144 traveled 0.9974498043880269 miles to charging station at 338 Weller St Bridge\n",
      "Car 11 from postal code 98144 traveled 0.22365021918059896 miles to charging station at 241 Martin Luther King Jr Way South\n",
      "Car 12 from postal code 98144 traveled 0.4328468666282329 miles to charging station at 807 Rainier Ave S\n",
      "Car 13 from postal code 98144 traveled 1.511082336753958 miles to charging station at 1531 Utah Avenue South\n",
      "Car 14 from postal code 98134 traveled 0.3603335848684138 miles to charging station at 1st Ave S & S Stacy St\n",
      "Car 15 from postal code 98104 traveled 0.5086919438362283 miles to charging station at 800 5th Ave\n",
      "Car 16 from postal code 98144 traveled 1.5121285451582085 miles to charging station at 805 Rainier Ave S\n",
      "Car 17 from postal code 98144 traveled 0.8232531776896483 miles to charging station at 409 South Spokane Street\n",
      "Car 18 from postal code 98144 traveled 0.9477946320667697 miles to charging station at 801 Rainier Ave S\n",
      "Car 19 from postal code 98134 traveled 0.7636471091138434 miles to charging station at 1531 Utah Avenue South\n",
      "Car 20 from postal code 98144 traveled 0.8944463474393767 miles to charging station at 805 Rainier Ave S\n",
      "Car 21 from postal code 98144 traveled 1.7212466102671966 miles to charging station at 1518 1st Ave S\n",
      "Car 22 from postal code 98144 traveled 1.9058482304280973 miles to charging station at 415 Sixth Ave, Seattle\n",
      "Car 23 from postal code 98104 traveled 0.45404710560975725 miles to charging station at 1000 4th Ave\n",
      "Car 24 from postal code 98144 traveled 1.59604534041905 miles to charging station at 1531 Utah Avenue South\n",
      "Car 25 from postal code 98144 traveled 2.7363601437618774 miles to charging station at 338 Weller St Bridge\n",
      "Car 26 from postal code 98144 traveled 1.08484733377175 miles to charging station at 600 9th Ave\n",
      "Car 27 from postal code 98144 traveled 1.3239251919696124 miles to charging station at 409 South Spokane Street\n",
      "Car 28 from postal code 98144 traveled 1.7302409522721869 miles to charging station at 1229 Madison St\n",
      "Car 29 from postal code 98134 traveled 1.464272283677167 miles to charging station at 1531 Utah Avenue South\n",
      "Car 30 from postal code 98144 traveled 1.5879156067453808 miles to charging station at 1229 Madison St\n",
      "Car 31 from postal code 98144 traveled 1.9152609282202884 miles to charging station at 201 S Jackson St\n",
      "Car 32 from postal code 98144 traveled 2.032300307148328 miles to charging station at 253-295 S Jackson St\n",
      "Car 33 from postal code 98144 traveled 1.3241371540087776 miles to charging station at 409 South Spokane Street\n",
      "Car 34 from postal code 98144 traveled 2.529580709985516 miles to charging station at 201 S Jackson St\n",
      "Car 35 from postal code 98144 traveled 0.8366587340614029 miles to charging station at 415 6th Ave S\n",
      "Car 36 from postal code 98144 traveled 2.5035205615313343 miles to charging station at 800  5th Ave\n",
      "Car 37 from postal code 98144 traveled 1.2396404486945811 miles to charging station at 805 Rainier Ave S\n",
      "Car 38 from postal code 98144 traveled 1.607401754355454 miles to charging station at 415 6th Ave S\n",
      "Car 39 from postal code 98144 traveled 2.3701770592488125 miles to charging station at 583 Battery St\n",
      "Car 40 from postal code 98144 traveled 1.5102649934332895 miles to charging station at 1229 Madison St\n",
      "Car 41 from postal code 98144 traveled 1.790020303731526 miles to charging station at 1518 1st Ave S\n",
      "Car 42 from postal code 98144 traveled 1.8377921896666247 miles to charging station at 1518 1st Ave S\n",
      "Car 43 from postal code 98104 traveled 0.25217421591510475 miles to charging station at 201 S Jackson St\n",
      "Car 44 from postal code 98134 traveled 0.9483622983844349 miles to charging station at 1st Ave S & S Stacy St\n",
      "Car 45 from postal code 98144 traveled 2.5896260566324942 miles to charging station at 1000 4th Ave\n",
      "Car 46 from postal code 98144 traveled 1.9395804023409922 miles to charging station at 600 9th Ave\n",
      "Car 47 from postal code 98144 traveled 1.5334049781539345 miles to charging station at 805 Rainier Ave S\n",
      "Car 48 from postal code 98144 traveled 0.6189424069397803 miles to charging station at 241 Martin Luther King Jr Way South\n",
      "Car 49 from postal code 98144 traveled 1.652379354285554 miles to charging station at 1229 Madison St\n",
      "Car 50 from postal code 98134 traveled 0.5625430908385208 miles to charging station at 1st Ave S & S Stacy St\n",
      "Car 51 from postal code 98134 traveled 0.20042781705424773 miles to charging station at 1531 Utah Avenue South\n",
      "Car 52 from postal code 98144 traveled 0.027385096912068092 miles to charging station at 2535 16th Ave S\n",
      "Car 53 from postal code 98144 traveled 2.0605067212711403 miles to charging station at 611 2nd Ave\n",
      "Car 54 from postal code 98144 traveled 0.8929074464453718 miles to charging station at 805 Rainier Ave S\n",
      "Car 55 from postal code 98104 traveled 0.5769494157240557 miles to charging station at 611 2nd Ave\n",
      "Car 56 from postal code 98144 traveled 2.179884073462098 miles to charging station at 583 Battery St\n",
      "Car 57 from postal code 98104 traveled 0.5610073649887533 miles to charging station at 611 2nd Ave\n",
      "Car 58 from postal code 98144 traveled 1.724617010097721 miles to charging station at 1518 1st Ave S\n",
      "Car 59 from postal code 98144 traveled 1.1812598593266483 miles to charging station at 415 6th Ave\n",
      "Car 60 from postal code 98104 traveled 0.6349949912830248 miles to charging station at 1000 4th Ave\n",
      "Car 61 from postal code 98144 traveled 1.2080498852664059 miles to charging station at 415 6th Ave S\n",
      "Car 62 from postal code 98144 traveled 1.0165022972661162 miles to charging station at 801 Rainier Ave S\n",
      "Car 63 from postal code 98144 traveled 2.555083455473409 miles to charging station at 583 Battery St\n",
      "Car 64 from postal code 98144 traveled 2.4472410488790555 miles to charging station at 800  5th Ave\n",
      "Car 65 from postal code 98144 traveled 1.4055090187620718 miles to charging station at 409 South Spokane Street\n",
      "Car 66 from postal code 98144 traveled 1.275720822163504 miles to charging station at 338 Weller St Bridge\n",
      "Car 67 from postal code 98144 traveled 1.7639668541436018 miles to charging station at 611 2nd Ave\n",
      "Car 68 from postal code 98144 traveled 3.070723737665361 miles to charging station at 415 6th Ave S\n",
      "Car 69 from postal code 98144 traveled 1.391353673508174 miles to charging station at 807 Rainier Ave S\n"
     ]
    }
   ],
   "source": [
    "if m.status == GRB.OPTIMAL:\n",
    "    for i in I:\n",
    "        for j in J:\n",
    "            if x[i,j].x > 0.5:\n",
    "                n = haversine(lon1[i], lat1[i], lon2[j], lat2[j])\n",
    "                p = dfa.loc[(dfa['LON'] == lon1[i]) & (dfa['LAT'] == lat1[i])].iloc[0,8]\n",
    "                a = dfcs.loc[(dfcs['Longitude'] == lon2[j]) & (dfcs['Latitude'] == lat2[j])].iloc[0,18]\n",
    "                print(f\"Car {i} from postal code {p} traveled {n} miles to charging station at {a}\")"
   ]
  }
 ],
 "metadata": {
  "kernelspec": {
   "display_name": "Python 3 (ipykernel)",
   "language": "python",
   "name": "python3"
  },
  "language_info": {
   "codemirror_mode": {
    "name": "ipython",
    "version": 3
   },
   "file_extension": ".py",
   "mimetype": "text/x-python",
   "name": "python",
   "nbconvert_exporter": "python",
   "pygments_lexer": "ipython3",
   "version": "3.9.6"
  }
 },
 "nbformat": 4,
 "nbformat_minor": 5
}
