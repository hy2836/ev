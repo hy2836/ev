{
 "cells": [
  {
   "cell_type": "markdown",
   "id": "af5c7405-dd0d-4e61-8f57-5e282b284ee3",
   "metadata": {},
   "source": [
    "\n",
    "\\ev charging"
   ]
  },
  {
   "cell_type": "code",
   "execution_count": 1,
   "id": "b9dd7b2b-5a7b-48b8-bffb-f245f87f963b",
   "metadata": {},
   "outputs": [],
   "source": [
    "a = 1"
   ]
  }
 ],
 "metadata": {
  "kernelspec": {
   "display_name": "Python 3 (ipykernel)",
   "language": "python",
   "name": "python3"
  },
  "language_info": {
   "codemirror_mode": {
    "name": "ipython",
    "version": 3
   },
   "file_extension": ".py",
   "mimetype": "text/x-python",
   "name": "python",
   "nbconvert_exporter": "python",
   "pygments_lexer": "ipython3",
   "version": "3.9.6"
  }
 },
 "nbformat": 4,
 "nbformat_minor": 5
}
